{
 "cells": [
  {
   "cell_type": "code",
   "execution_count": 1,
   "metadata": {},
   "outputs": [],
   "source": [
    "#Import necessary library. \n",
    "from keras.preprocessing.image import ImageDataGenerator\n",
    "from keras.preprocessing.image import ImageDataGenerator, array_to_img, img_to_array, load_img"
   ]
  },
  {
   "cell_type": "code",
   "execution_count": 2,
   "metadata": {},
   "outputs": [],
   "source": [
    "datagen = ImageDataGenerator(\n",
    "        rotation_range=40,\n",
    "        width_shift_range=0.2,\n",
    "        height_shift_range=0.2,\n",
    "        rescale=1./255,\n",
    "        shear_range=0.2,\n",
    "        zoom_range=0.2,\n",
    "        horizontal_flip=True,\n",
    "        fill_mode='nearest')"
   ]
  },
  {
   "cell_type": "code",
   "execution_count": 3,
   "metadata": {},
   "outputs": [],
   "source": [
    "#Create your rquirement how u wnat togenerate your image.\n",
    "datagen = ImageDataGenerator(\n",
    "        rotation_range=0,\n",
    "        width_shift_range=0.2,\n",
    "        height_shift_range=0.2,\n",
    "        shear_range=0.2,\n",
    "        zoom_range=0.2,\n",
    "        horizontal_flip=False,\n",
    "        fill_mode='nearest')\n",
    "\n",
    "#Loading the Image whcich we want to generate\n",
    "img = load_img(r'C:\\Users\\admin\\Desktop\\IR Engine\\IR Engine.jpg')\n",
    "\n",
    "#This is a Numpy array with shape (3, 150, 150)\n",
    "x = img_to_array(img)\n",
    "\n",
    "#This is a Numpy array with shape (1, 3, 150, 150)\n",
    "x = x.reshape((1,) + x.shape)\n",
    "\n",
    "# the .flow() command below generates batches of randomly transformed images\n",
    "i = 0\n",
    "\n",
    "#running for loop into the image array.\n",
    "for batch in datagen.flow(x, batch_size=1,\n",
    "                          # Saves the results with prefix name in below path\n",
    "                          save_to_dir=(r'C:\\Users\\admin\\Desktop\\IR Engine\\Engine'), save_prefix='IR Engine', save_format='jpeg'):\n",
    "    i += 1\n",
    "    #Assign how many images need to generate\n",
    "    if i > 20:\n",
    "        # otherwise the generator would loop indefinitely\n",
    "        break  "
   ]
  },
  {
   "cell_type": "code",
   "execution_count": null,
   "metadata": {},
   "outputs": [],
   "source": []
  }
 ],
 "metadata": {
  "kernelspec": {
   "display_name": "Python 3",
   "language": "python",
   "name": "python3"
  },
  "language_info": {
   "codemirror_mode": {
    "name": "ipython",
    "version": 3
   },
   "file_extension": ".py",
   "mimetype": "text/x-python",
   "name": "python",
   "nbconvert_exporter": "python",
   "pygments_lexer": "ipython3",
   "version": "3.8.5"
  }
 },
 "nbformat": 4,
 "nbformat_minor": 4
}
